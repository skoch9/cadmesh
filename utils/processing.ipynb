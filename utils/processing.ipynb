{
 "cells": [
  {
   "cell_type": "code",
   "execution_count": 6,
   "metadata": {
    "pycharm": {
     "name": "#%%\n"
    }
   },
   "outputs": [],
   "source": [
    "# Change directory to cadmesh repo until conda/pip deployment is ready\n",
    "import os\n",
    "os.chdir(\"/Users/chandu/Workspace/GM/cadmesh/\")"
   ]
  },
  {
   "cell_type": "code",
   "execution_count": 8,
   "metadata": {
    "pycharm": {
     "name": "#%%\n"
    }
   },
   "outputs": [
    {
     "data": {
      "application/vnd.jupyter.widget-view+json": {
       "model_id": "9334f28c27d94109bab5c0792432b331",
       "version_major": 2,
       "version_minor": 0
      },
      "text/plain": [
       "Processing step files:   0%|          | 0/10 [00:00<?, ?it/s]"
      ]
     },
     "metadata": {},
     "output_type": "display_data"
    },
    {
     "name": "stdout",
     "output_type": "stream",
     "text": [
      " Errors on Reading Header Entity N0.5:HeaderSection_FileName\n"
     ]
    }
   ],
   "source": [
    "# Process step files\n",
    "from cadmesh import process_step_folder\n",
    "results = process_step_folder(data_path=\"data/test\", output_path=\"data/results/abc_sample\", log_path=\"data/log_abc\", file_pattern=\"*.step\", file_range=[0, 10])"
   ]
  },
  {
   "cell_type": "code",
   "execution_count": 4,
   "metadata": {
    "pycharm": {
     "name": "#%%\n"
    }
   },
   "outputs": [
    {
     "data": {
      "application/vnd.jupyter.widget-view+json": {
       "model_id": "1d425f43fc55493b9b0c17245d2f85a7",
       "version_major": 2,
       "version_minor": 0
      },
      "text/plain": [
       "  0%|          | 0/10 [00:00<?, ?it/s]"
      ]
     },
     "metadata": {},
     "output_type": "display_data"
    },
    {
     "data": {
      "image/png": "[encoded data removed]",
      "text/plain": [
       "<Figure size 432x288 with 1 Axes>"
      ]
     },
     "metadata": {
      "needs_background": "light"
     },
     "output_type": "display_data"
    },
    {
     "data": {
      "image/png": "[encoded data removed]",
      "text/plain": [
       "<Figure size 432x288 with 1 Axes>"
      ]
     },
     "metadata": {
      "needs_background": "light"
     },
     "output_type": "display_data"
    },
    {
     "name": "stdout",
     "output_type": "stream",
     "text": [
      "Parts: Avg: 1.40\n",
      "Times: Avg: 2.00\n",
      "Errors occurred: 0(total)/0(single)\n",
      "Conversion errors occurred: 0(total)/0(single)\n",
      "Success: 10/10\n"
     ]
    }
   ],
   "source": [
    "# Analyse log files to check how many files succeeded/failed in step processing\n",
    "from cadmesh import analyse_log_files\n",
    "analyse_log_files(\"data/log_abc/*.log\")"
   ]
  },
  {
   "cell_type": "code",
   "execution_count": 4,
   "metadata": {
    "pycharm": {
     "name": "#%%\n"
    }
   },
   "outputs": [
    {
     "data": {
      "application/vnd.jupyter.widget-view+json": {
       "model_id": "ac0f5b06dda3472f96efe2c8ff07952c",
       "version_major": 2,
       "version_minor": 0
      },
      "text/plain": [
       "Processing geometry files:   0%|          | 0/10 [00:00<?, ?it/s]"
      ]
     },
     "metadata": {},
     "output_type": "display_data"
    },
    {
     "ename": "NameError",
     "evalue": "name 'surfs' is not defined",
     "output_type": "error",
     "traceback": [
      "\u001b[0;31m---------------------------------------------------------------------------\u001b[0m",
      "\u001b[0;31mNameError\u001b[0m                                 Traceback (most recent call last)",
      "Input \u001b[0;32mIn [4]\u001b[0m, in \u001b[0;36m<module>\u001b[0;34m\u001b[0m\n\u001b[1;32m      1\u001b[0m \u001b[38;5;66;03m# Process geometry files to find curve and surface types      \u001b[39;00m\n\u001b[1;32m      2\u001b[0m \u001b[38;5;28;01mfrom\u001b[39;00m \u001b[38;5;21;01mcadmesh\u001b[39;00m \u001b[38;5;28;01mimport\u001b[39;00m analyse_curve_and_surface_types\n\u001b[0;32m----> 3\u001b[0m curves, surfs, rev_ext \u001b[38;5;241m=\u001b[39m \u001b[43manalyse_curve_and_surface_types\u001b[49m\u001b[43m(\u001b[49m\u001b[38;5;124;43m\"\u001b[39;49m\u001b[38;5;124;43mdata/results/abc_00*/*_geo.yaml\u001b[39;49m\u001b[38;5;124;43m\"\u001b[39;49m\u001b[43m)\u001b[49m\n",
      "File \u001b[0;32m~/Workspace/GM/cadmesh/cadmesh/utils/analysis.py:88\u001b[0m, in \u001b[0;36manalyse_curve_and_surface_types\u001b[0;34m(path)\u001b[0m\n\u001b[1;32m     86\u001b[0m     g_lines\u001b[38;5;241m.\u001b[39mupdate(r[\u001b[38;5;241m1\u001b[39m])\n\u001b[1;32m     87\u001b[0m     g_surfs\u001b[38;5;241m.\u001b[39mupdate(r[\u001b[38;5;241m2\u001b[39m])\n\u001b[0;32m---> 88\u001b[0m     \u001b[38;5;28;01mif\u001b[39;00m \u001b[43msurfs\u001b[49m[\u001b[38;5;124m\"\u001b[39m\u001b[38;5;124mRevolution\u001b[39m\u001b[38;5;124m\"\u001b[39m] \u001b[38;5;241m>\u001b[39m \u001b[38;5;241m0\u001b[39m \u001b[38;5;129;01mor\u001b[39;00m surfs[\u001b[38;5;124m\"\u001b[39m\u001b[38;5;124mExtrusion\u001b[39m\u001b[38;5;124m\"\u001b[39m] \u001b[38;5;241m>\u001b[39m \u001b[38;5;241m0\u001b[39m:\n\u001b[1;32m     89\u001b[0m         rev_ext\u001b[38;5;241m.\u001b[39mappend(nr)\n\u001b[1;32m     91\u001b[0m plot_types(g_lines, title\u001b[38;5;241m=\u001b[39m\u001b[38;5;124m\"\u001b[39m\u001b[38;5;124mCurve types\u001b[39m\u001b[38;5;124m\"\u001b[39m)\n",
      "\u001b[0;31mNameError\u001b[0m: name 'surfs' is not defined"
     ]
    }
   ],
   "source": [
    "# Process geometry files to find curve and surface types      \n",
    "from cadmesh import analyse_curve_and_surface_types\n",
    "curves, surfs, rev_ext = analyse_curve_and_surface_types(\"data/results/abc_00*/*_geo.yaml\")"
   ]
  },
  {
   "cell_type": "code",
   "execution_count": null,
   "metadata": {
    "pycharm": {
     "name": "#%%\n"
    }
   },
   "outputs": [],
   "source": []
  }
 ],
 "metadata": {
  "kernelspec": {
   "display_name": "Python 3 (ipykernel)",
   "language": "python",
   "name": "python3"
  },
  "language_info": {
   "codemirror_mode": {
    "name": "ipython",
    "version": 3
   },
   "file_extension": ".py",
   "mimetype": "text/x-python",
   "name": "python",
   "nbconvert_exporter": "python",
   "pygments_lexer": "ipython3",
   "version": "3.9.7"
  }
 },
 "nbformat": 4,
 "nbformat_minor": 4
}
